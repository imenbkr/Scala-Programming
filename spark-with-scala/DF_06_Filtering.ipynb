{
 "cells": [
  {
   "cell_type": "markdown",
   "metadata": {},
   "source": [
    "## Aperçu sur le Filtrage\n",
    "\n",
    "* Le filtrage peut être effectué soit en utilisant `filter` ou `where`. Ce sont comme des synonymes les uns des autres.\n",
    "* En ce qui concerne la condition, nous pouvons soit la transmettre en **style SQL** ou en **style Data Frame**. \n",
    "* Exemple de style SQL - `df.filter(\"Ville = 'PARIS'\").show() or df.where(\"Ville = 'PARIS'\").show()`\n",
    "* Example de style Data Frame - `df.filter(df(\"Ville\") === 'PARIS').show()`. Nous pouvons également utiliser where au lieu de filter.\n",
    "* Voici les autres opérations que nous pouvons effectuer pour filtrer les données - `!=`, `>`, `<`, `>=`, `<=`, `LIKE`, `BETWEEN` avec `AND`\n",
    "* Si nous devons filtrer sur plusieurs colonnes, nous devons utiliser des opérations booléennes telles que `AND` et `OR` (style SQL) ou `&&` et `||` (style Data Frame).\n",
    "* Si nous devons comparer chaque valeur de colonne avec plusieurs valeurs, nous pouvons utiliser l'opérateur `in` (style SQL) ou `isin` (style Data Frame)."
   ]
  },
  {
   "cell_type": "code",
   "execution_count": 1,
   "metadata": {},
   "outputs": [
    {
     "data": {
      "text/plain": [
       "spark = org.apache.spark.sql.SparkSession@56d8757a\n"
      ]
     },
     "metadata": {},
     "output_type": "display_data"
    },
    {
     "data": {
      "text/plain": [
       "org.apache.spark.sql.SparkSession@56d8757a"
      ]
     },
     "execution_count": 1,
     "metadata": {},
     "output_type": "execute_result"
    }
   ],
   "source": [
    "import org.apache.spark.sql.SparkSession\n",
    "\n",
    "val spark = SparkSession.\n",
    "    builder.\n",
    "    appName(\"Filtering Column Data\").\n",
    "    master(\"local[*]\").\n",
    "    getOrCreate"
   ]
  },
  {
   "cell_type": "markdown",
   "metadata": {},
   "source": [
    "Voici un exemple de création de Data Frame à l'aide d'une collection d'employés. Nous utiliserons ce Data Frame pour explorer toutes les fonctions de filtrage des données des colonnes."
   ]
  },
  {
   "cell_type": "code",
   "execution_count": 3,
   "metadata": {},
   "outputs": [
    {
     "data": {
      "text/plain": [
       "employees = List((1,Scott,Tiger,1000.0,united states,+1 123 456 7890,123 45 6789), (2,Henry,Ford,1250.0,India,+91 234 567 8901,456 78 9123), (3,Nick,Junior,750.0,united KINGDOM,+44 111 111 1111,222 33 4444), (4,Bill,Gomes,1500.0,AUSTRALIA,+61 987 654 3210,789 12 6118), (5,Martin,Dupont,1200.0,united states,+1 123 433 1290,321 98 3490), (6,Harry,Fox,1180.0,India,+91 234 567 8901,456 78 9123), (7,Ronald,Junior,1750.0,AUSTRALIA,+61 215 175 1631,444 33 2222), (8,James,King,2500.0,AUSTRALIA,+61 382 998 1113,538 21 1987))\n"
      ]
     },
     "metadata": {},
     "output_type": "display_data"
    },
    {
     "data": {
      "text/plain": [
       "List((1,Scott,Tiger,1000.0,united states,+1 123 456 7890,123 45 6789), (2,Henry,Ford,1250.0,India,+91 234 567 8901,456 78 9123), (3,Nick,Junior,750.0,united KINGDOM,+44 111 111 1111,222 33 4444), (4,Bill,Gomes,1500.0,AUSTRALIA,+61 987 654 3210,789 12 6118), (5,Martin,Dupont,1200.0,united states,+1 123 433 1290,321 98 3490), (6,Harry,Fox,1180.0,India,+91 234 567 8901,456 78 9123), (7,Ronald,Junior,1750.0,AUSTRALIA,+61 215 175 1631,444 33 2222), (8,James,King,2500.0,AUSTRALIA,+61 382 998 1113,538 21 1987))"
      ]
     },
     "execution_count": 3,
     "metadata": {},
     "output_type": "execute_result"
    }
   ],
   "source": [
    "val employees = List((1, \"Scott\", \"Tiger\", 1000.0, \n",
    "                      \"united states\", \"+1 123 456 7890\", \"123 45 6789\"\n",
    "                     ),\n",
    "                     (2, \"Henry\", \"Ford\", 1250.0, \n",
    "                      \"India\", \"+91 234 567 8901\", \"456 78 9123\"\n",
    "                     ),\n",
    "                     (3, \"Nick\", \"Junior\", 750.0, \n",
    "                      \"united KINGDOM\", \"+44 111 111 1111\", \"222 33 4444\"\n",
    "                     ),\n",
    "                     (4, \"Bill\", \"Gomes\", 1500.0, \n",
    "                      \"AUSTRALIA\", \"+61 987 654 3210\", \"789 12 6118\"\n",
    "                     ),\n",
    "                     (5, \"Martin\", \"Dupont\", 1200.0, \n",
    "                      \"united states\", \"+1 123 433 1290\", \"321 98 3490\"\n",
    "                     ),\n",
    "                     (6, \"Harry\", \"Fox\", 1180.0, \n",
    "                      \"India\", \"+91 234 567 8901\", \"456 78 9123\"\n",
    "                     ),\n",
    "                     (7, \"Ronald\", \"Junior\", 1750.0, \n",
    "                      \"AUSTRALIA\", \"+61 215 175 1631\", \"444 33 2222\"\n",
    "                     ),\n",
    "                     (8, \"James\", \"King\", 2500.0, \n",
    "                      \"AUSTRALIA\", \"+61 382 998 1113\", \"538 21 1987\"\n",
    "                     )\n",
    "                    )"
   ]
  },
  {
   "cell_type": "code",
   "execution_count": 4,
   "metadata": {},
   "outputs": [
    {
     "data": {
      "text/plain": [
       "employeesDF = [employee_id: int, first_name: string ... 5 more fields]\n"
      ]
     },
     "metadata": {},
     "output_type": "display_data"
    },
    {
     "data": {
      "text/plain": [
       "[employee_id: int, first_name: string ... 5 more fields]"
      ]
     },
     "execution_count": 4,
     "metadata": {},
     "output_type": "execute_result"
    }
   ],
   "source": [
    "val employeesDF = employees.\n",
    "    toDF(\"employee_id\", \"first_name\",\n",
    "         \"last_name\", \"salary\",\n",
    "         \"nationality\", \"phone_number\",\n",
    "         \"ssn\"\n",
    "        )"
   ]
  },
  {
   "cell_type": "code",
   "execution_count": 6,
   "metadata": {},
   "outputs": [
    {
     "name": "stdout",
     "output_type": "stream",
     "text": [
      "+-----------+----------+---------+------+--------------+----------------+-----------+\n",
      "|employee_id|first_name|last_name|salary|   nationality|    phone_number|        ssn|\n",
      "+-----------+----------+---------+------+--------------+----------------+-----------+\n",
      "|          1|     Scott|    Tiger|1000.0| united states| +1 123 456 7890|123 45 6789|\n",
      "|          2|     Henry|     Ford|1250.0|         India|+91 234 567 8901|456 78 9123|\n",
      "|          3|      Nick|   Junior| 750.0|united KINGDOM|+44 111 111 1111|222 33 4444|\n",
      "|          4|      Bill|    Gomes|1500.0|     AUSTRALIA|+61 987 654 3210|789 12 6118|\n",
      "|          5|    Martin|   Dupont|1200.0| united states| +1 123 433 1290|321 98 3490|\n",
      "|          6|     Harry|      Fox|1180.0|         India|+91 234 567 8901|456 78 9123|\n",
      "|          7|    Ronald|   Junior|1750.0|     AUSTRALIA|+61 215 175 1631|444 33 2222|\n",
      "|          8|     James|     King|2500.0|     AUSTRALIA|+61 382 998 1113|538 21 1987|\n",
      "+-----------+----------+---------+------+--------------+----------------+-----------+\n",
      "\n"
     ]
    }
   ],
   "source": [
    "employeesDF.show"
   ]
  },
  {
   "cell_type": "code",
   "execution_count": 7,
   "metadata": {},
   "outputs": [
    {
     "name": "stdout",
     "output_type": "stream",
     "text": [
      "root\n",
      " |-- employee_id: integer (nullable = false)\n",
      " |-- first_name: string (nullable = true)\n",
      " |-- last_name: string (nullable = true)\n",
      " |-- salary: double (nullable = false)\n",
      " |-- nationality: string (nullable = true)\n",
      " |-- phone_number: string (nullable = true)\n",
      " |-- ssn: string (nullable = true)\n",
      "\n"
     ]
    }
   ],
   "source": [
    "employeesDF.printSchema"
   ]
  },
  {
   "cell_type": "markdown",
   "metadata": {},
   "source": [
    "* Liste des employés ayant la nationalité 'AUSTRALIA'"
   ]
  },
  {
   "cell_type": "code",
   "execution_count": 8,
   "metadata": {},
   "outputs": [
    {
     "name": "stdout",
     "output_type": "stream",
     "text": [
      "+-----------+----------+---------+------+-----------+----------------+-----------+\n",
      "|employee_id|first_name|last_name|salary|nationality|    phone_number|        ssn|\n",
      "+-----------+----------+---------+------+-----------+----------------+-----------+\n",
      "|          4|      Bill|    Gomes|1500.0|  AUSTRALIA|+61 987 654 3210|789 12 6118|\n",
      "|          7|    Ronald|   Junior|1750.0|  AUSTRALIA|+61 215 175 1631|444 33 2222|\n",
      "|          8|     James|     King|2500.0|  AUSTRALIA|+61 382 998 1113|538 21 1987|\n",
      "+-----------+----------+---------+------+-----------+----------------+-----------+\n",
      "\n"
     ]
    }
   ],
   "source": [
    "// SQL Style\n",
    "employeesDF.filter(\"nationality = 'AUSTRALIA'\").show"
   ]
  },
  {
   "cell_type": "code",
   "execution_count": 30,
   "metadata": {},
   "outputs": [
    {
     "name": "stdout",
     "output_type": "stream",
     "text": [
      "+-----------+----------+---------+------+-----------+----------------+-----------+\n",
      "|employee_id|first_name|last_name|salary|nationality|    phone_number|        ssn|\n",
      "+-----------+----------+---------+------+-----------+----------------+-----------+\n",
      "|          4|      Bill|    Gomes|1500.0|  AUSTRALIA|+61 987 654 3210|789 12 6118|\n",
      "|          7|    Ronald|   Junior|1750.0|  AUSTRALIA|+61 215 175 1631|444 33 2222|\n",
      "|          8|     James|     King|2500.0|  AUSTRALIA|+61 382 998 1113|538 21 1987|\n",
      "+-----------+----------+---------+------+-----------+----------------+-----------+\n",
      "\n"
     ]
    }
   ],
   "source": [
    "// DataFrame Style\n",
    "import org.apache.spark.sql.functions.col\n",
    "\n",
    "employeesDF.filter(employeesDF(\"nationality\") === \"AUSTRALIA\").show"
   ]
  },
  {
   "cell_type": "code",
   "execution_count": 12,
   "metadata": {},
   "outputs": [
    {
     "name": "stdout",
     "output_type": "stream",
     "text": [
      "+-----------+----------+---------+------+-----------+----------------+-----------+\n",
      "|employee_id|first_name|last_name|salary|nationality|    phone_number|        ssn|\n",
      "+-----------+----------+---------+------+-----------+----------------+-----------+\n",
      "|          4|      Bill|    Gomes|1500.0|  AUSTRALIA|+61 987 654 3210|789 12 6118|\n",
      "|          7|    Ronald|   Junior|1750.0|  AUSTRALIA|+61 215 175 1631|444 33 2222|\n",
      "|          8|     James|     King|2500.0|  AUSTRALIA|+61 382 998 1113|538 21 1987|\n",
      "+-----------+----------+---------+------+-----------+----------------+-----------+\n",
      "\n"
     ]
    }
   ],
   "source": [
    "// Utilisation de where\n",
    "employeesDF.where(employeesDF(\"nationality\") === \"AUSTRALIA\").show"
   ]
  },
  {
   "cell_type": "markdown",
   "metadata": {},
   "source": [
    "* Liste des employés ayant la nationalité 'AUSTRALIA' et un salaire > à 2000"
   ]
  },
  {
   "cell_type": "code",
   "execution_count": 13,
   "metadata": {},
   "outputs": [
    {
     "name": "stdout",
     "output_type": "stream",
     "text": [
      "+-----------+----------+---------+------+-----------+----------------+-----------+\n",
      "|employee_id|first_name|last_name|salary|nationality|    phone_number|        ssn|\n",
      "+-----------+----------+---------+------+-----------+----------------+-----------+\n",
      "|          8|     James|     King|2500.0|  AUSTRALIA|+61 382 998 1113|538 21 1987|\n",
      "+-----------+----------+---------+------+-----------+----------------+-----------+\n",
      "\n"
     ]
    }
   ],
   "source": [
    "// SQL Style\n",
    "employeesDF.filter(\"nationality = 'AUSTRALIA' AND salary > 2000\").show"
   ]
  },
  {
   "cell_type": "code",
   "execution_count": 39,
   "metadata": {},
   "outputs": [
    {
     "name": "stdout",
     "output_type": "stream",
     "text": [
      "+-----------+----------+---------+------+-----------+----------------+-----------+\n",
      "|employee_id|first_name|last_name|salary|nationality|    phone_number|        ssn|\n",
      "+-----------+----------+---------+------+-----------+----------------+-----------+\n",
      "|          8|     James|     King|2500.0|  AUSTRALIA|+61 382 998 1113|538 21 1987|\n",
      "+-----------+----------+---------+------+-----------+----------------+-----------+\n",
      "\n"
     ]
    }
   ],
   "source": [
    "// DataFrame Style\n",
    "employeesDF.filter(col(\"nationality\") === \"AUSTRALIA\" && col(\"salary\")>2000).show"
   ]
  },
  {
   "cell_type": "code",
   "execution_count": 15,
   "metadata": {},
   "outputs": [
    {
     "name": "stdout",
     "output_type": "stream",
     "text": [
      "+-----------+----------+---------+------+-----------+----------------+-----------+\n",
      "|employee_id|first_name|last_name|salary|nationality|    phone_number|        ssn|\n",
      "+-----------+----------+---------+------+-----------+----------------+-----------+\n",
      "|          8|     James|     King|2500.0|  AUSTRALIA|+61 382 998 1113|538 21 1987|\n",
      "+-----------+----------+---------+------+-----------+----------------+-----------+\n",
      "\n"
     ]
    }
   ],
   "source": [
    "// DataFrame Style\n",
    "employeesDF.filter($\"nationality\" === \"AUSTRALIA\" && $\"salary\" > 2000).show"
   ]
  },
  {
   "cell_type": "markdown",
   "metadata": {},
   "source": [
    "* Liste des employés ayant la nationalité 'AUSTRALIA' et 'India'"
   ]
  },
  {
   "cell_type": "code",
   "execution_count": 16,
   "metadata": {},
   "outputs": [
    {
     "name": "stdout",
     "output_type": "stream",
     "text": [
      "+-----------+----------+---------+------+-----------+----------------+-----------+\n",
      "|employee_id|first_name|last_name|salary|nationality|    phone_number|        ssn|\n",
      "+-----------+----------+---------+------+-----------+----------------+-----------+\n",
      "|          2|     Henry|     Ford|1250.0|      India|+91 234 567 8901|456 78 9123|\n",
      "|          4|      Bill|    Gomes|1500.0|  AUSTRALIA|+61 987 654 3210|789 12 6118|\n",
      "|          6|     Harry|      Fox|1180.0|      India|+91 234 567 8901|456 78 9123|\n",
      "|          7|    Ronald|   Junior|1750.0|  AUSTRALIA|+61 215 175 1631|444 33 2222|\n",
      "|          8|     James|     King|2500.0|  AUSTRALIA|+61 382 998 1113|538 21 1987|\n",
      "+-----------+----------+---------+------+-----------+----------------+-----------+\n",
      "\n"
     ]
    }
   ],
   "source": [
    "// SQL Style\n",
    "employeesDF.filter(\"nationality = 'AUSTRALIA' OR nationality = 'India' \").show"
   ]
  },
  {
   "cell_type": "code",
   "execution_count": null,
   "metadata": {},
   "outputs": [],
   "source": [
    "// SQL Style utilisant l'operateur IN\n",
    "employeesDF.filter(\"nationality in ('AUSTRALIA','India') \").show"
   ]
  },
  {
   "cell_type": "code",
   "execution_count": null,
   "metadata": {},
   "outputs": [],
   "source": [
    "// DataFrame Style utilisant l'operateur IN\n",
    "employeesDF.filter($\"nationality\" isin (\"AUSTRALIA\",\"India\") ).show"
   ]
  },
  {
   "cell_type": "markdown",
   "metadata": {},
   "source": [
    "* Liste des employés dont l'indicatif du numéro de téléphone est +44"
   ]
  },
  {
   "cell_type": "code",
   "execution_count": 24,
   "metadata": {},
   "outputs": [
    {
     "name": "stdout",
     "output_type": "stream",
     "text": [
      "+-----------+----------+---------+------+--------------+----------------+-----------+\n",
      "|employee_id|first_name|last_name|salary|   nationality|    phone_number|        ssn|\n",
      "+-----------+----------+---------+------+--------------+----------------+-----------+\n",
      "|          3|      Nick|   Junior| 750.0|united KINGDOM|+44 111 111 1111|222 33 4444|\n",
      "+-----------+----------+---------+------+--------------+----------------+-----------+\n",
      "\n"
     ]
    }
   ],
   "source": [
    "// SQL Style\n",
    "employeesDF.filter(\"phone_number like '+44%' \").show"
   ]
  },
  {
   "cell_type": "code",
   "execution_count": 25,
   "metadata": {},
   "outputs": [
    {
     "name": "stdout",
     "output_type": "stream",
     "text": [
      "+-----------+----------+---------+------+--------------+----------------+-----------+\n",
      "|employee_id|first_name|last_name|salary|   nationality|    phone_number|        ssn|\n",
      "+-----------+----------+---------+------+--------------+----------------+-----------+\n",
      "|          3|      Nick|   Junior| 750.0|united KINGDOM|+44 111 111 1111|222 33 4444|\n",
      "+-----------+----------+---------+------+--------------+----------------+-----------+\n",
      "\n"
     ]
    }
   ],
   "source": [
    "// DataFrame Style\n",
    "employeesDF.filter($\"phone_number\" like \"+44%\" ).show"
   ]
  },
  {
   "cell_type": "markdown",
   "metadata": {},
   "source": [
    "* Liste des employés dont le salaire est entre 1000 et 2000"
   ]
  },
  {
   "cell_type": "code",
   "execution_count": null,
   "metadata": {},
   "outputs": [],
   "source": [
    "// SQL Style\n",
    "employeesDF.filter(\"salary between '1000' and '2000' \").show"
   ]
  },
  {
   "cell_type": "code",
   "execution_count": null,
   "metadata": {},
   "outputs": [],
   "source": [
    "// DataFrame Style\n",
    "employeesDF.filter($\"salary\" between (\"1000\",\"2000\")).show"
   ]
  },
  {
   "cell_type": "markdown",
   "metadata": {},
   "source": [
    "## Application\n",
    "\n",
    "* Lire dans un DF le contenu du fichier `flightmonth=200801` au format `parquet` \n",
    "* Selectionner seulement les colonnes `Year`, `Month`, `DayOfMonth`, `DepDelay`, `ArrDelay`, `UniqueCarrier`, `FlightNum`, `IsArrDelayed` et `IsDepDelayed`\n",
    "* Obtenez le nombre de vols dont le départ est tardif au point d'origine et qui arrivent à destination en avance ou à l'heure.\n",
    "* Obtenez le nombre de vols dont le départ de l'origine est en retard de plus de 60 minutes.\n",
    "* Obtenez le nombre de vols qui partent en avance ou à l'heure mais qui arrivent en retard d'au moins 15 minutes.\n",
    "* Obtenez le nombre de vols au départ des grands aéroports suivants : ORD, DFW, ATL, LAX, SFO.\n",
    "* Obtenez le nombre de vols dont le départ a été tardif entre le 1er janvier 2008 et le 9 janvier 2008 en utilisant `FlightDate`.\n",
    "    * La date doit être au format `yyyyMMdd` .\n",
    "    * Ajouter une colonne FlightDate en utilisant l'année, le mois et le jour du mois. Le format doit être `yyyyMMdd` .\n"
   ]
  },
  {
   "cell_type": "code",
   "execution_count": 2,
   "metadata": {},
   "outputs": [
    {
     "data": {
      "text/plain": [
       "airlines_all = [Year: int, Month: int ... 29 more fields]\n"
      ]
     },
     "metadata": {},
     "output_type": "display_data"
    },
    {
     "data": {
      "text/plain": [
       "[Year: int, Month: int ... 29 more fields]"
      ]
     },
     "execution_count": 2,
     "metadata": {},
     "output_type": "execute_result"
    }
   ],
   "source": [
    "val airlines_all = spark.read.parquet(\"./files/flightmonth=200801/\")"
   ]
  },
  {
   "cell_type": "code",
   "execution_count": 3,
   "metadata": {},
   "outputs": [
    {
     "name": "stdout",
     "output_type": "stream",
     "text": [
      "root\n",
      " |-- Year: integer (nullable = true)\n",
      " |-- Month: integer (nullable = true)\n",
      " |-- DayofMonth: integer (nullable = true)\n",
      " |-- DayOfWeek: integer (nullable = true)\n",
      " |-- DepTime: string (nullable = true)\n",
      " |-- CRSDepTime: integer (nullable = true)\n",
      " |-- ArrTime: string (nullable = true)\n",
      " |-- CRSArrTime: integer (nullable = true)\n",
      " |-- UniqueCarrier: string (nullable = true)\n",
      " |-- FlightNum: integer (nullable = true)\n",
      " |-- TailNum: string (nullable = true)\n",
      " |-- ActualElapsedTime: string (nullable = true)\n",
      " |-- CRSElapsedTime: integer (nullable = true)\n",
      " |-- AirTime: string (nullable = true)\n",
      " |-- ArrDelay: string (nullable = true)\n",
      " |-- DepDelay: string (nullable = true)\n",
      " |-- Origin: string (nullable = true)\n",
      " |-- Dest: string (nullable = true)\n",
      " |-- Distance: string (nullable = true)\n",
      " |-- TaxiIn: string (nullable = true)\n",
      " |-- TaxiOut: string (nullable = true)\n",
      " |-- Cancelled: integer (nullable = true)\n",
      " |-- CancellationCode: string (nullable = true)\n",
      " |-- Diverted: integer (nullable = true)\n",
      " |-- CarrierDelay: string (nullable = true)\n",
      " |-- WeatherDelay: string (nullable = true)\n",
      " |-- NASDelay: string (nullable = true)\n",
      " |-- SecurityDelay: string (nullable = true)\n",
      " |-- LateAircraftDelay: string (nullable = true)\n",
      " |-- IsArrDelayed: string (nullable = true)\n",
      " |-- IsDepDelayed: string (nullable = true)\n",
      "\n"
     ]
    }
   ],
   "source": [
    "airlines_all.printSchema"
   ]
  },
  {
   "cell_type": "code",
   "execution_count": 4,
   "metadata": {},
   "outputs": [
    {
     "data": {
      "text/plain": [
       "airlines = [Year: int, Month: int ... 7 more fields]\n"
      ]
     },
     "metadata": {},
     "output_type": "display_data"
    },
    {
     "data": {
      "text/plain": [
       "[Year: int, Month: int ... 7 more fields]"
      ]
     },
     "execution_count": 4,
     "metadata": {},
     "output_type": "execute_result"
    }
   ],
   "source": [
    "val airlines = airlines_all.select(\"Year\", \"Month\", \"DayOfMonth\", \"DepDelay\",\n",
    "              \"ArrDelay\", \"UniqueCarrier\", \"FlightNum\",\n",
    "              \"IsArrDelayed\", \"IsDepDelayed\")"
   ]
  },
  {
   "cell_type": "code",
   "execution_count": 5,
   "metadata": {},
   "outputs": [
    {
     "name": "stdout",
     "output_type": "stream",
     "text": [
      "root\n",
      " |-- Year: integer (nullable = true)\n",
      " |-- Month: integer (nullable = true)\n",
      " |-- DayOfMonth: integer (nullable = true)\n",
      " |-- DepDelay: string (nullable = true)\n",
      " |-- ArrDelay: string (nullable = true)\n",
      " |-- UniqueCarrier: string (nullable = true)\n",
      " |-- FlightNum: integer (nullable = true)\n",
      " |-- IsArrDelayed: string (nullable = true)\n",
      " |-- IsDepDelayed: string (nullable = true)\n",
      "\n"
     ]
    }
   ],
   "source": [
    "airlines.printSchema"
   ]
  },
  {
   "cell_type": "code",
   "execution_count": 6,
   "metadata": {},
   "outputs": [
    {
     "name": "stdout",
     "output_type": "stream",
     "text": [
      "+----+-----+----------+--------+--------+-------------+---------+------------+------------+\n",
      "|Year|Month|DayOfMonth|DepDelay|ArrDelay|UniqueCarrier|FlightNum|IsArrDelayed|IsDepDelayed|\n",
      "+----+-----+----------+--------+--------+-------------+---------+------------+------------+\n",
      "|2008|    1|        16|      -3|      -6|           WN|      709|          NO|          NO|\n",
      "|2008|    1|        16|       1|     -34|           WN|     3146|          NO|         YES|\n",
      "|2008|    1|        16|       6|      -2|           WN|     1854|          NO|         YES|\n",
      "|2008|    1|        16|      -2|       0|           WN|     1767|          NO|          NO|\n",
      "|2008|    1|        16|      -2|     -30|           WN|     1417|          NO|          NO|\n",
      "|2008|    1|        16|      -3|      -8|           WN|      495|          NO|          NO|\n",
      "|2008|    1|        16|       0|     -14|           WN|     1210|          NO|          NO|\n",
      "|2008|    1|        16|       4|      -3|           WN|     3394|          NO|         YES|\n",
      "|2008|    1|        16|      -3|     -13|           WN|     1758|          NO|          NO|\n",
      "|2008|    1|        17|      31|      32|           WN|      209|         YES|         YES|\n",
      "|2008|    1|        17|      58|      50|           WN|     1250|         YES|         YES|\n",
      "|2008|    1|        17|       2|      -8|           WN|       15|          NO|         YES|\n",
      "|2008|    1|        17|      -2|       4|           WN|     1114|         YES|          NO|\n",
      "|2008|    1|        17|      -3|      -9|           WN|      791|          NO|          NO|\n",
      "|2008|    1|        17|       0|      -5|           WN|      441|          NO|          NO|\n",
      "|2008|    1|        17|       8|      -7|           WN|     1433|          NO|         YES|\n",
      "|2008|    1|        17|       8|      -5|           WN|     3397|          NO|         YES|\n",
      "|2008|    1|        17|       1|       8|           WN|     3918|         YES|         YES|\n",
      "|2008|    1|        17|       4|       1|           WN|     1196|         YES|         YES|\n",
      "|2008|    1|        17|      -5|       4|           WN|     3586|         YES|          NO|\n",
      "+----+-----+----------+--------+--------+-------------+---------+------------+------------+\n",
      "only showing top 20 rows\n",
      "\n"
     ]
    }
   ],
   "source": [
    "airlines.show"
   ]
  },
  {
   "cell_type": "markdown",
   "metadata": {},
   "source": [
    "* Obtenez le nombre de vols dont le départ est tardif au point d'origine et qui arrivent à destination en avance ou à l'heure."
   ]
  },
  {
   "cell_type": "code",
   "execution_count": 16,
   "metadata": {},
   "outputs": [
    {
     "data": {
      "text/plain": [
       "54233"
      ]
     },
     "execution_count": 16,
     "metadata": {},
     "output_type": "execute_result"
    }
   ],
   "source": [
    "airlines.\n",
    "    filter(\"IsDepDelayed = 'YES' AND IsArrDelayed = 'NO'\").\n",
    "    count"
   ]
  },
  {
   "cell_type": "code",
   "execution_count": 10,
   "metadata": {},
   "outputs": [],
   "source": [
    "import org.apache.spark.sql.functions._"
   ]
  },
  {
   "cell_type": "code",
   "execution_count": 18,
   "metadata": {},
   "outputs": [
    {
     "data": {
      "text/plain": [
       "54233"
      ]
     },
     "execution_count": 18,
     "metadata": {},
     "output_type": "execute_result"
    }
   ],
   "source": [
    "airlines.\n",
    "    filter(col(\"IsDepDelayed\") === \"YES\" and col(\"IsArrDelayed\") === \"NO\").\n",
    "    count"
   ]
  },
  {
   "cell_type": "code",
   "execution_count": 19,
   "metadata": {},
   "outputs": [
    {
     "data": {
      "text/plain": [
       "54233"
      ]
     },
     "execution_count": 19,
     "metadata": {},
     "output_type": "execute_result"
    }
   ],
   "source": [
    "airlines.\n",
    "    filter($\"IsDepDelayed\" === \"YES\" and $\"IsArrDelayed\" === \"NO\").\n",
    "    count"
   ]
  },
  {
   "cell_type": "code",
   "execution_count": 20,
   "metadata": {},
   "outputs": [
    {
     "data": {
      "text/plain": [
       "54233"
      ]
     },
     "execution_count": 20,
     "metadata": {},
     "output_type": "execute_result"
    }
   ],
   "source": [
    "airlines.\n",
    "    filter(airlines(\"IsDepDelayed\") === \"YES\" and airlines(\"IsArrDelayed\") === \"NO\").\n",
    "    count"
   ]
  },
  {
   "cell_type": "markdown",
   "metadata": {},
   "source": [
    "* Obtenez le nombre de vols dont le départ de l'origine est en retard de plus de 60 minutes."
   ]
  },
  {
   "cell_type": "code",
   "execution_count": 21,
   "metadata": {},
   "outputs": [
    {
     "data": {
      "text/plain": [
       "40104"
      ]
     },
     "execution_count": 21,
     "metadata": {},
     "output_type": "execute_result"
    }
   ],
   "source": [
    "airlines.\n",
    "    filter($\"DepDelay\" > 60).\n",
    "    count"
   ]
  },
  {
   "cell_type": "code",
   "execution_count": 22,
   "metadata": {},
   "outputs": [
    {
     "data": {
      "text/plain": [
       "40104"
      ]
     },
     "execution_count": 22,
     "metadata": {},
     "output_type": "execute_result"
    }
   ],
   "source": [
    "airlines.\n",
    "    filter(\"DepDelay > 60\").\n",
    "    count"
   ]
  },
  {
   "cell_type": "markdown",
   "metadata": {},
   "source": [
    "* Obtenez le nombre de vols qui partent en avance ou à l'heure mais qui arrivent en retard d'au moins 15 minutes."
   ]
  },
  {
   "cell_type": "code",
   "execution_count": 22,
   "metadata": {},
   "outputs": [
    {
     "data": {
      "text/plain": [
       "20705"
      ]
     },
     "execution_count": 22,
     "metadata": {},
     "output_type": "execute_result"
    }
   ],
   "source": [
    "airlines.\n",
    "    filter($\"IsDepDelayed\" === \"NO\" and $\"ArrDelay\" >= 15).\n",
    "    count"
   ]
  },
  {
   "cell_type": "code",
   "execution_count": 24,
   "metadata": {},
   "outputs": [
    {
     "data": {
      "text/plain": [
       "20705"
      ]
     },
     "execution_count": 24,
     "metadata": {},
     "output_type": "execute_result"
    }
   ],
   "source": [
    "airlines.\n",
    "    filter($\"IsDepDelayed\" === \"NO\" and $\"ArrDelay\" >= 15).\n",
    "    count"
   ]
  },
  {
   "cell_type": "markdown",
   "metadata": {},
   "source": [
    "* Obtenez le nombre de vols au départ des grands aéroports suivants : ORD, DFW, ATL, LAX, SFO."
   ]
  },
  {
   "cell_type": "code",
   "execution_count": 11,
   "metadata": {},
   "outputs": [
    {
     "name": "stdout",
     "output_type": "stream",
     "text": [
      "+------+\n",
      "|Origin|\n",
      "+------+\n",
      "|   DFW|\n",
      "|   SFO|\n",
      "|   ATL|\n",
      "|   ORD|\n",
      "|   LAX|\n",
      "+------+\n",
      "\n"
     ]
    }
   ],
   "source": [
    "airlines_all.\n",
    "    filter(\"Origin IN ('ORD', 'DFW', 'ATL', 'LAX', 'SFO')\").\n",
    "    select(\"Origin\").\n",
    "    distinct.\n",
    "    show"
   ]
  },
  {
   "cell_type": "code",
   "execution_count": 12,
   "metadata": {},
   "outputs": [
    {
     "data": {
      "text/plain": [
       "118212"
      ]
     },
     "execution_count": 12,
     "metadata": {},
     "output_type": "execute_result"
    }
   ],
   "source": [
    "airlines_all.\n",
    "    filter(\"Origin IN ('ORD', 'DFW', 'ATL', 'LAX', 'SFO')\").\n",
    "    count"
   ]
  },
  {
   "cell_type": "code",
   "execution_count": 13,
   "metadata": {},
   "outputs": [
    {
     "data": {
      "text/plain": [
       "118212"
      ]
     },
     "execution_count": 13,
     "metadata": {},
     "output_type": "execute_result"
    }
   ],
   "source": [
    "airlines_all.\n",
    "    filter(col(\"Origin\") isin (\"ORD\", \"DFW\", \"ATL\", \"LAX\", \"SFO\")).\n",
    "    count"
   ]
  },
  {
   "cell_type": "code",
   "execution_count": 14,
   "metadata": {},
   "outputs": [
    {
     "data": {
      "text/plain": [
       "118212"
      ]
     },
     "execution_count": 14,
     "metadata": {},
     "output_type": "execute_result"
    }
   ],
   "source": [
    "airlines_all.\n",
    "    filter($\"Origin\" isin (\"ORD\", \"DFW\", \"ATL\", \"LAX\", \"SFO\")).\n",
    "    count"
   ]
  },
  {
   "cell_type": "code",
   "execution_count": 15,
   "metadata": {},
   "outputs": [
    {
     "data": {
      "text/plain": [
       "118212"
      ]
     },
     "execution_count": 15,
     "metadata": {},
     "output_type": "execute_result"
    }
   ],
   "source": [
    "airlines_all.\n",
    "    filter(airlines_all(\"Origin\") isin (\"ORD\", \"DFW\", \"ATL\", \"LAX\", \"SFO\")).\n",
    "    count"
   ]
  },
  {
   "cell_type": "markdown",
   "metadata": {},
   "source": [
    "* Obtenez le nombre de vols dont le départ a été tardif entre le 1er janvier 2008 et le 9 janvier 2008 en utilisant `FlightDate`.\n",
    "    * La date doit être au format `yyyyMMdd` .\n",
    "    * Ajouter une colonne FlightDate en utilisant l'année, le mois et le jour du mois. Le format doit être `yyyyMMdd` ."
   ]
  },
  {
   "cell_type": "code",
   "execution_count": 16,
   "metadata": {},
   "outputs": [
    {
     "name": "stdout",
     "output_type": "stream",
     "text": [
      "+----+-----+----------+--------+--------+-------------+---------+------------+------------+----------+\n",
      "|Year|Month|DayOfMonth|DepDelay|ArrDelay|UniqueCarrier|FlightNum|IsArrDelayed|IsDepDelayed|FlightDate|\n",
      "+----+-----+----------+--------+--------+-------------+---------+------------+------------+----------+\n",
      "|2008|    1|        16|      -3|      -6|           WN|      709|          NO|          NO|  20080116|\n",
      "|2008|    1|        16|       1|     -34|           WN|     3146|          NO|         YES|  20080116|\n",
      "|2008|    1|        16|       6|      -2|           WN|     1854|          NO|         YES|  20080116|\n",
      "|2008|    1|        16|      -2|       0|           WN|     1767|          NO|          NO|  20080116|\n",
      "|2008|    1|        16|      -2|     -30|           WN|     1417|          NO|          NO|  20080116|\n",
      "|2008|    1|        16|      -3|      -8|           WN|      495|          NO|          NO|  20080116|\n",
      "|2008|    1|        16|       0|     -14|           WN|     1210|          NO|          NO|  20080116|\n",
      "|2008|    1|        16|       4|      -3|           WN|     3394|          NO|         YES|  20080116|\n",
      "|2008|    1|        16|      -3|     -13|           WN|     1758|          NO|          NO|  20080116|\n",
      "|2008|    1|        17|      31|      32|           WN|      209|         YES|         YES|  20080117|\n",
      "|2008|    1|        17|      58|      50|           WN|     1250|         YES|         YES|  20080117|\n",
      "|2008|    1|        17|       2|      -8|           WN|       15|          NO|         YES|  20080117|\n",
      "|2008|    1|        17|      -2|       4|           WN|     1114|         YES|          NO|  20080117|\n",
      "|2008|    1|        17|      -3|      -9|           WN|      791|          NO|          NO|  20080117|\n",
      "|2008|    1|        17|       0|      -5|           WN|      441|          NO|          NO|  20080117|\n",
      "|2008|    1|        17|       8|      -7|           WN|     1433|          NO|         YES|  20080117|\n",
      "|2008|    1|        17|       8|      -5|           WN|     3397|          NO|         YES|  20080117|\n",
      "|2008|    1|        17|       1|       8|           WN|     3918|         YES|         YES|  20080117|\n",
      "|2008|    1|        17|       4|       1|           WN|     1196|         YES|         YES|  20080117|\n",
      "|2008|    1|        17|      -5|       4|           WN|     3586|         YES|          NO|  20080117|\n",
      "+----+-----+----------+--------+--------+-------------+---------+------------+------------+----------+\n",
      "only showing top 20 rows\n",
      "\n"
     ]
    }
   ],
   "source": [
    "airlines.\n",
    "    withColumn(\"FlightDate\", \n",
    "               concat(col(\"Year\"), \n",
    "                      lpad(col(\"Month\"), 2, \"0\"), \n",
    "                      lpad(col(\"DayOfMOnth\"), 2, \"0\")\n",
    "                     )\n",
    "              ).\n",
    "    show"
   ]
  },
  {
   "cell_type": "code",
   "execution_count": 17,
   "metadata": {},
   "outputs": [
    {
     "data": {
      "text/plain": [
       "91045"
      ]
     },
     "execution_count": 17,
     "metadata": {},
     "output_type": "execute_result"
    }
   ],
   "source": [
    "airlines.\n",
    "    withColumn(\"FlightDate\", \n",
    "               concat(col(\"Year\"), \n",
    "                      lpad(col(\"Month\"), 2, \"0\"), \n",
    "                      lpad(col(\"DayOfMOnth\"), 2, \"0\")\n",
    "                     )\n",
    "              ).\n",
    "    filter(\"FlightDate LIKE '2008010%' AND IsDepDelayed = 'YES'\").\n",
    "    count"
   ]
  },
  {
   "cell_type": "code",
   "execution_count": 18,
   "metadata": {},
   "outputs": [
    {
     "data": {
      "text/plain": [
       "91045"
      ]
     },
     "execution_count": 18,
     "metadata": {},
     "output_type": "execute_result"
    }
   ],
   "source": [
    "airlines.\n",
    "    withColumn(\"FlightDate\", \n",
    "               concat(col(\"Year\"), \n",
    "                      lpad(col(\"Month\"), 2, \"0\"), \n",
    "                      lpad(col(\"DayOfMOnth\"), 2, \"0\")\n",
    "                     )\n",
    "              ).\n",
    "    filter(\"FlightDate BETWEEN '20080101' AND '20080109' AND IsDepDelayed = 'YES'\").\n",
    "    count"
   ]
  },
  {
   "cell_type": "code",
   "execution_count": 19,
   "metadata": {},
   "outputs": [
    {
     "data": {
      "text/plain": [
       "91045"
      ]
     },
     "execution_count": 19,
     "metadata": {},
     "output_type": "execute_result"
    }
   ],
   "source": [
    "airlines.\n",
    "    withColumn(\"FlightDate\", \n",
    "               concat(col(\"Year\"), \n",
    "                      lpad(col(\"Month\"), 2, \"0\"), \n",
    "                      lpad(col(\"DayOfMOnth\"), 2, \"0\")\n",
    "                     )\n",
    "              ).\n",
    "    filter($\"FlightDate\" like \"2008010%\" and $\"IsDepDelayed\" === \"YES\").\n",
    "    count"
   ]
  },
  {
   "cell_type": "code",
   "execution_count": 20,
   "metadata": {},
   "outputs": [
    {
     "data": {
      "text/plain": [
       "91045"
      ]
     },
     "execution_count": 20,
     "metadata": {},
     "output_type": "execute_result"
    }
   ],
   "source": [
    "airlines.\n",
    "    withColumn(\"FlightDate\", \n",
    "               concat(col(\"Year\"), \n",
    "                      lpad(col(\"Month\"), 2, \"0\"), \n",
    "                      lpad(col(\"DayOfMOnth\"), 2, \"0\")\n",
    "                     )\n",
    "              ).\n",
    "    filter($\"FlightDate\" between (\"20080101\", \"20080109\") and $\"IsDepDelayed\" === \"YES\").\n",
    "    count"
   ]
  },
  {
   "cell_type": "code",
   "execution_count": null,
   "metadata": {},
   "outputs": [],
   "source": []
  }
 ],
 "metadata": {
  "kernelspec": {
   "display_name": "Apache Toree - Scala",
   "language": "scala",
   "name": "apache_toree_scala"
  },
  "language_info": {
   "codemirror_mode": "text/x-scala",
   "file_extension": ".scala",
   "mimetype": "text/x-scala",
   "name": "scala",
   "pygments_lexer": "scala",
   "version": "2.12.15"
  }
 },
 "nbformat": 4,
 "nbformat_minor": 2
}
